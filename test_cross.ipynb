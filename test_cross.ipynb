{
 "metadata": {
  "language_info": {
   "codemirror_mode": {
    "name": "ipython",
    "version": 3
   },
   "file_extension": ".py",
   "mimetype": "text/x-python",
   "name": "python",
   "nbconvert_exporter": "python",
   "pygments_lexer": "ipython3",
   "version": "3.7.4"
  },
  "orig_nbformat": 4,
  "kernelspec": {
   "name": "python3",
   "display_name": "Python 3.7.4 64-bit ('base': conda)"
  },
  "interpreter": {
   "hash": "04f3ce0738d928d74413a2b10d0d4c487f39bbf2ffd0e3f43a6ab028b956cd75"
  }
 },
 "nbformat": 4,
 "nbformat_minor": 2,
 "cells": [
  {
   "cell_type": "code",
   "execution_count": 1,
   "metadata": {},
   "outputs": [],
   "source": [
    "import torch\n",
    "from modules import SConv2d, SLinear, SModel, SReLU\n",
    "from models import SCrossEntropyLoss"
   ]
  },
  {
   "cell_type": "code",
   "execution_count": 4,
   "metadata": {},
   "outputs": [],
   "source": [
    "def train_one_epoch():\n",
    "    \n",
    "    return loss.item()"
   ]
  },
  {
   "cell_type": "code",
   "execution_count": 17,
   "metadata": {
    "tags": []
   },
   "outputs": [
    {
     "output_type": "stream",
     "name": "stdout",
     "text": [
      "tensor(0.0001, grad_fn=<SCrossEntropyLossFunctionBackward>)\n"
     ]
    }
   ],
   "source": [
    "fc1 = SLinear(3,3,bias=False)\n",
    "# fc1.op.weight.data = torch.Tensor(list(range(1,10))).view(fc1.op.weight.shape) * 0.1\n",
    "# fc1.op.bias.data = torch.zeros_like(fc1.op.bias)\n",
    "fc2 = SLinear(3,3,bias=False)\n",
    "# fc2.op.weight.data = torch.Tensor(list(range(9,0,-1))).view(fc2.op.weight.shape) * 0.1\n",
    "# fc2.op.weight.data[0,0] = 2\n",
    "# fc2.op.bias.data = torch.zeros_like(fc2.op.bias)\n",
    "relu = SReLU()\n",
    "criteria = SCrossEntropyLoss()\n",
    "optimizer = torch.optim.SGD(list(fc1.parameters()) + list(fc2.parameters()), 1e-1)\n",
    "\n",
    "for _ in range(1000):\n",
    "    optimizer.zero_grad()\n",
    "    x = torch.Tensor([[1,2,3]])\n",
    "    xS = torch.zeros_like(x)\n",
    "    labels = torch.LongTensor([0])\n",
    "\n",
    "    x1, xS1 = fc1(x, xS)\n",
    "    x1.retain_grad()\n",
    "    xS1.retain_grad()\n",
    "    x2, xS2 = relu(x1, xS1)\n",
    "    x2.retain_grad()\n",
    "    xS2.retain_grad()\n",
    "    x3, xS3 = fc2(x2, xS2)\n",
    "    x3.retain_grad()\n",
    "    xS3.retain_grad()\n",
    "\n",
    "    loss = criteria(x3, xS3, labels)\n",
    "    loss.backward()\n",
    "    optimizer.step()\n",
    "\n",
    "optimizer = torch.optim.SGD(list(fc1.parameters()) + list(fc2.parameters()), 0)\n",
    "optimizer.zero_grad()\n",
    "x = torch.Tensor([[1,2,3]])\n",
    "xS = torch.zeros_like(x)\n",
    "labels = torch.LongTensor([0])\n",
    "\n",
    "x1, xS1 = fc1(x, xS)\n",
    "x1.retain_grad()\n",
    "xS1.retain_grad()\n",
    "x2, xS2 = relu(x1, xS1)\n",
    "x2.retain_grad()\n",
    "xS2.retain_grad()\n",
    "x3, xS3 = fc2(x2, xS2)\n",
    "x3.retain_grad()\n",
    "xS3.retain_grad()\n",
    "\n",
    "loss = criteria(x3, xS3, labels)\n",
    "loss.backward()\n",
    "optimizer.step()\n",
    "print(loss)"
   ]
  },
  {
   "cell_type": "code",
   "execution_count": 3,
   "metadata": {},
   "outputs": [],
   "source": [
    "# x3SG = torch.Tensor([[0.0123928,-0.0117341,-0.000658689,-0.0117341,0.011742,-7.92681E-6,-0.000658689,-7.92681E-6,0.000666616]]).view(1,3,3)\n",
    "# x1SG = torch.Tensor([[0.0249031,0.00560088,0.00560088,0.00560088,0.00129391,0.00129391,0.00560088,0.00129391,0.00129391]]).view(1,3,3)"
   ]
  },
  {
   "cell_type": "code",
   "execution_count": 18,
   "metadata": {},
   "outputs": [
    {
     "output_type": "execute_result",
     "data": {
      "text/plain": [
       "tensor([[2.8934e-05, 1.1574e-04, 2.6041e-04],\n",
       "        [2.3459e-04, 9.3835e-04, 2.1113e-03],\n",
       "        [3.8065e-05, 1.5226e-04, 3.4258e-04]])"
      ]
     },
     "metadata": {},
     "execution_count": 18
    }
   ],
   "source": [
    "fc1.weightS.grad"
   ]
  },
  {
   "cell_type": "code",
   "execution_count": 19,
   "metadata": {},
   "outputs": [],
   "source": [
    "def CECross(output):\n",
    "    BS = output.shape[0]\n",
    "    e3 = (output - output.max()).exp()\n",
    "    e3_sum = e3.sum()\n",
    "    ratio = (e3 / e3_sum).view(BS,1,-1)\n",
    "\n",
    "    return (torch.diag_embed(ratio.view(BS,-1),0,1) - ratio.swapaxes(1,2).bmm(ratio))\n",
    "x3SG = CECross(x3)"
   ]
  },
  {
   "cell_type": "code",
   "execution_count": 20,
   "metadata": {},
   "outputs": [],
   "source": [
    "x1SG = torch.zeros(1,3,3)\n",
    "for i in range(3):\n",
    "    for j in range(3):\n",
    "        for k in range(3):\n",
    "            for m in range(3):\n",
    "                x1SG[:,i,j] += x3SG[:,k,m] * fc2.op.weight[k,i] * fc2.op.weight[m,j]"
   ]
  },
  {
   "cell_type": "code",
   "execution_count": 21,
   "metadata": {},
   "outputs": [],
   "source": [
    "def crossSecond(IN, outS):\n",
    "    BS = IN.shape[0]\n",
    "    IN = IN.view(BS,1,-1)\n",
    "    return IN.swapaxes(1,2).bmm(IN).view(BS,1,-1).swapaxes(1,2).bmm(outS.view(BS,1,-1))\n",
    "fc1WSG = crossSecond(x,  x1SG)\n",
    "fc2WSG = crossSecond(x2, x3SG)"
   ]
  },
  {
   "cell_type": "code",
   "execution_count": 22,
   "metadata": {},
   "outputs": [
    {
     "output_type": "execute_result",
     "data": {
      "text/plain": [
       "tensor([[[5.1460e-05, 1.3437e-04, 3.7396e-05, 1.3437e-04, 4.1264e-04,\n",
       "          8.2717e-05, 3.7396e-05, 8.2717e-05, 3.0779e-05],\n",
       "         [1.0292e-04, 2.6873e-04, 7.4792e-05, 2.6873e-04, 8.2527e-04,\n",
       "          1.6543e-04, 7.4792e-05, 1.6543e-04, 6.1558e-05],\n",
       "         [1.5438e-04, 4.0310e-04, 1.1219e-04, 4.0310e-04, 1.2379e-03,\n",
       "          2.4815e-04, 1.1219e-04, 2.4815e-04, 9.2337e-05],\n",
       "         [1.0292e-04, 2.6873e-04, 7.4792e-05, 2.6873e-04, 8.2527e-04,\n",
       "          1.6543e-04, 7.4792e-05, 1.6543e-04, 6.1558e-05],\n",
       "         [2.0584e-04, 5.3746e-04, 1.4958e-04, 5.3746e-04, 1.6505e-03,\n",
       "          3.3087e-04, 1.4958e-04, 3.3087e-04, 1.2312e-04],\n",
       "         [3.0876e-04, 8.0620e-04, 2.2438e-04, 8.0620e-04, 2.4758e-03,\n",
       "          4.9630e-04, 2.2438e-04, 4.9630e-04, 1.8467e-04],\n",
       "         [1.5438e-04, 4.0310e-04, 1.1219e-04, 4.0310e-04, 1.2379e-03,\n",
       "          2.4815e-04, 1.1219e-04, 2.4815e-04, 9.2337e-05],\n",
       "         [3.0876e-04, 8.0620e-04, 2.2438e-04, 8.0620e-04, 2.4758e-03,\n",
       "          4.9630e-04, 2.2438e-04, 4.9630e-04, 1.8467e-04],\n",
       "         [4.6314e-04, 1.2093e-03, 3.3656e-04, 1.2093e-03, 3.7137e-03,\n",
       "          7.4445e-04, 3.3656e-04, 7.4445e-04, 2.7701e-04]]],\n",
       "       grad_fn=<BmmBackward0>)"
      ]
     },
     "metadata": {},
     "execution_count": 22
    }
   ],
   "source": [
    "fc1WSG"
   ]
  },
  {
   "cell_type": "code",
   "execution_count": 28,
   "metadata": {},
   "outputs": [
    {
     "output_type": "execute_result",
     "data": {
      "text/plain": [
       "tensor([[[ 0.0000e+00,  0.0000e+00,  0.0000e+00,  0.0000e+00,  0.0000e+00,\n",
       "           0.0000e+00,  0.0000e+00,  0.0000e+00,  0.0000e+00],\n",
       "         [ 0.0000e+00,  0.0000e+00,  0.0000e+00,  0.0000e+00,  0.0000e+00,\n",
       "           0.0000e+00,  0.0000e+00,  0.0000e+00,  0.0000e+00],\n",
       "         [ 0.0000e+00,  0.0000e+00,  0.0000e+00,  0.0000e+00,  0.0000e+00,\n",
       "           0.0000e+00,  0.0000e+00,  0.0000e+00,  0.0000e+00],\n",
       "         [ 0.0000e+00,  0.0000e+00,  0.0000e+00,  0.0000e+00,  0.0000e+00,\n",
       "           0.0000e+00,  0.0000e+00,  0.0000e+00,  0.0000e+00],\n",
       "         [ 3.2674e-03, -2.2173e-03, -1.0508e-03, -2.2173e-03,  2.2174e-03,\n",
       "          -8.9876e-08, -1.0508e-03, -8.9876e-08,  1.0509e-03],\n",
       "         [ 6.9283e-04, -4.7016e-04, -2.2282e-04, -4.7016e-04,  4.7018e-04,\n",
       "          -1.9058e-08, -2.2282e-04, -1.9058e-08,  2.2284e-04],\n",
       "         [ 0.0000e+00,  0.0000e+00,  0.0000e+00,  0.0000e+00,  0.0000e+00,\n",
       "           0.0000e+00,  0.0000e+00,  0.0000e+00,  0.0000e+00],\n",
       "         [ 6.9283e-04, -4.7016e-04, -2.2282e-04, -4.7016e-04,  4.7018e-04,\n",
       "          -1.9058e-08, -2.2282e-04, -1.9058e-08,  2.2284e-04],\n",
       "         [ 1.4691e-04, -9.9695e-05, -4.7248e-05, -9.9695e-05,  9.9699e-05,\n",
       "          -4.0410e-09, -4.7248e-05, -4.0410e-09,  4.7252e-05]]],\n",
       "       grad_fn=<BmmBackward0>)"
      ]
     },
     "metadata": {},
     "execution_count": 28
    }
   ],
   "source": [
    "fc2WSG"
   ]
  },
  {
   "cell_type": "code",
   "execution_count": 32,
   "metadata": {},
   "outputs": [
    {
     "output_type": "execute_result",
     "data": {
      "text/plain": [
       "tensor([0, 6, 2, 1, 3, 8, 5, 7, 4])"
      ]
     },
     "metadata": {},
     "execution_count": 32
    }
   ],
   "source": [
    "fc1WSG.view(9,9).diag().view(-1).sort()[1]"
   ]
  },
  {
   "cell_type": "code",
   "execution_count": 33,
   "metadata": {},
   "outputs": [
    {
     "output_type": "execute_result",
     "data": {
      "text/plain": [
       "tensor([0, 6, 1, 7, 3, 2, 8, 4, 5])"
      ]
     },
     "metadata": {},
     "execution_count": 33
    }
   ],
   "source": [
    "fc1.weightS.grad.view(-1).sort()[1]"
   ]
  },
  {
   "cell_type": "code",
   "execution_count": null,
   "metadata": {},
   "outputs": [],
   "source": []
  }
 ]
}