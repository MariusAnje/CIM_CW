{
 "cells": [
  {
   "cell_type": "code",
   "execution_count": 12,
   "metadata": {},
   "outputs": [],
   "source": [
    "import torch\r\n",
    "from modules import SConv2d, SLinear, SModel, SReLU\r\n",
    "from models import SCrossEntropyLoss\r\n",
    "from matplotlib import pyplot as plt\r\n",
    "from tqdm.notebook import tqdm"
   ]
  },
  {
   "cell_type": "code",
   "execution_count": 2,
   "metadata": {},
   "outputs": [],
   "source": [
    "def CECross(output):\r\n",
    "    BS = output.shape[0]\r\n",
    "    e3 = (output - output.max()).exp()\r\n",
    "    e3_sum = e3.sum(dim=1).unsqueeze(1).expand_as(e3)\r\n",
    "    ratio = (e3 / e3_sum).view(BS,1,-1)\r\n",
    "    return (torch.diag_embed(ratio.view(BS,-1),0,1) - ratio.swapaxes(1,2).bmm(ratio))\r\n",
    "\r\n",
    "def crossSecond(IN, outS):\r\n",
    "    BS = IN.shape[0]\r\n",
    "    IN = IN.view(BS,1,-1)\r\n",
    "    return IN.swapaxes(1,2).bmm(IN).view(BS,-1).t().mm(outS.view(BS,-1)).view(3,3,3,3).swapaxes(0,2).swapaxes(0,1).reshape(9,9)"
   ]
  },
  {
   "cell_type": "code",
   "execution_count": 29,
   "metadata": {
    "tags": []
   },
   "outputs": [
    {
     "data": {
      "application/vnd.jupyter.widget-view+json": {
       "model_id": "af5c0063386446149b9e8bbe3cf7c936",
       "version_major": 2,
       "version_minor": 0
      },
      "text/plain": [
       "HBox(children=(HTML(value=''), FloatProgress(value=0.0), HTML(value='')))"
      ]
     },
     "metadata": {},
     "output_type": "display_data"
    },
    {
     "name": "stdout",
     "output_type": "stream",
     "text": [
      "\n"
     ]
    }
   ],
   "source": [
    " correct1 = []\n",
    " correct2 = []\n",
    " calc1 = []\n",
    " calc2 = []\n",
    "\n",
    " for _ in tqdm(range(100)):\n",
    "    fc1 = SLinear(3,3,bias=False)\n",
    "    # fc1.op.weight.data = torch.Tensor(list(range(1,10))).view(fc1.op.weight.shape) * 0.1\n",
    "    # fc1.op.bias.data = torch.zeros_like(fc1.op.bias)\n",
    "    fc2 = SLinear(3,3,bias=False)\n",
    "    # fc2.op.weight.data = torch.Tensor(list(range(9,0,-1))).view(fc2.op.weight.shape) * 0.1\n",
    "    # fc2.op.weight.data[0,0] = 2\n",
    "    # fc2.op.bias.data = torch.zeros_like(fc2.op.bias)\n",
    "    relu = SReLU()\n",
    "    criteria = SCrossEntropyLoss()\n",
    "    optimizer = torch.optim.SGD(list(fc1.parameters()) + list(fc2.parameters()), 1e-1)\n",
    "\n",
    "    for _ in range(1000):\n",
    "        optimizer.zero_grad()\n",
    "        x = torch.Tensor([[1,2,3]])\n",
    "        xS = torch.zeros_like(x)\n",
    "        labels = torch.LongTensor([0])\n",
    "\n",
    "        x1, xS1 = fc1(x, xS)\n",
    "        x1.retain_grad()\n",
    "        xS1.retain_grad()\n",
    "        x2, xS2 = relu(x1, xS1)\n",
    "        x2.retain_grad()\n",
    "        xS2.retain_grad()\n",
    "        x3, xS3 = fc2(x2, xS2)\n",
    "        x3.retain_grad()\n",
    "        xS3.retain_grad()\n",
    "\n",
    "        loss = criteria(x3, xS3, labels)\n",
    "        loss.backward()\n",
    "        optimizer.step()\n",
    "\n",
    "    optimizer = torch.optim.SGD(list(fc1.parameters()) + list(fc2.parameters()), 0)\n",
    "    optimizer.zero_grad()\n",
    "    x = torch.Tensor([[1,2,3]])\n",
    "    xS = torch.zeros_like(x)\n",
    "    labels = torch.LongTensor([0])\n",
    "\n",
    "    x1, xS1 = fc1(x, xS)\n",
    "    x1.retain_grad()\n",
    "    xS1.retain_grad()\n",
    "    x2, xS2 = relu(x1, xS1)\n",
    "    x2.retain_grad()\n",
    "    xS2.retain_grad()\n",
    "    x3, xS3 = fc2(x2, xS2)\n",
    "    x3.retain_grad()\n",
    "    xS3.retain_grad()\n",
    "\n",
    "    loss = criteria(x3, xS3, labels)\n",
    "    if loss < 1e-3:\n",
    "        loss.backward()\n",
    "        optimizer.step()\n",
    "        x3SG = CECross(x3)\n",
    "        mask = (x2 == 0).to(torch.float)\n",
    "        x1SG = fc2.op.weight.t().matmul(x3SG * mask).matmul(fc2.op.weight)\n",
    "        fc1WSG = crossSecond(x,  x1SG)\n",
    "        fc2WSG = crossSecond(x2, x3SG)\n",
    "        correct1 += fc1WSG.view(9,9).diag().data.numpy().tolist()\n",
    "        correct2 += fc2WSG.view(9,9).diag().data.numpy().tolist()\n",
    "        calc1 += fc1.weightS.grad.view(-1).data.numpy().tolist()\n",
    "        calc2 += fc2.weightS.grad.view(-1).data.numpy().tolist()"
   ]
  },
  {
   "cell_type": "code",
   "execution_count": 44,
   "metadata": {},
   "outputs": [],
   "source": [
    "# x3SG = torch.Tensor([[0.0123928,-0.0117341,-0.000658689,-0.0117341,0.011742,-7.92681E-6,-0.000658689,-7.92681E-6,0.000666616]]).view(1,3,3)\n",
    "# x1SG = torch.Tensor([[0.0249031,0.00560088,0.00560088,0.00560088,0.00129391,0.00129391,0.00560088,0.00129391,0.00129391]]).view(1,3,3)"
   ]
  },
  {
   "cell_type": "code",
   "execution_count": 30,
   "metadata": {},
   "outputs": [
    {
     "data": {
      "text/plain": [
       "(-0.001, 0.005)"
      ]
     },
     "execution_count": 30,
     "metadata": {},
     "output_type": "execute_result"
    },
    {
     "data": {
      "image/png": "[encoded data removed]",
      "text/plain": [
       "<Figure size 432x288 with 1 Axes>"
      ]
     },
     "metadata": {
      "needs_background": "light"
     },
     "output_type": "display_data"
    }
   ],
   "source": [
    "plt.scatter(correct1, calc1)\r\n",
    "plt.xlim(-0.001, 0.005)\r\n",
    "plt.ylim(-0.001, 0.005)"
   ]
  },
  {
   "cell_type": "code",
   "execution_count": 31,
   "metadata": {},
   "outputs": [
    {
     "data": {
      "text/plain": [
       "(-0.001, 0.005)"
      ]
     },
     "execution_count": 31,
     "metadata": {},
     "output_type": "execute_result"
    },
    {
     "data": {
      "image/png": "[encoded data removed]",
      "text/plain": [
       "<Figure size 432x288 with 1 Axes>"
      ]
     },
     "metadata": {
      "needs_background": "light"
     },
     "output_type": "display_data"
    }
   ],
   "source": [
    "plt.scatter(correct2, calc2)\r\n",
    "plt.xlim(-0.001, 0.005)\r\n",
    "plt.ylim(-0.001, 0.005)"
   ]
  },
  {
   "cell_type": "code",
   "execution_count": 40,
   "metadata": {},
   "outputs": [],
   "source": [
    "fc1 = SLinear(3,3,bias=False)\r\n",
    "# fc1.op.weight.data = torch.Tensor(list(range(1,10))).view(fc1.op.weight.shape) * 0.1\r\n",
    "# fc1.op.bias.data = torch.zeros_like(fc1.op.bias)\r\n",
    "fc2 = SLinear(3,3,bias=False)\r\n",
    "# fc2.op.weight.data = torch.Tensor(list(range(9,0,-1))).view(fc2.op.weight.shape) * 0.1\r\n",
    "# fc2.op.weight.data[0,0] = 2\r\n",
    "# fc2.op.bias.data = torch.zeros_like(fc2.op.bias)\r\n",
    "relu = SReLU()\r\n",
    "criteria = SCrossEntropyLoss()\r\n",
    "optimizer = torch.optim.SGD(list(fc1.parameters()) + list(fc2.parameters()), 1e-1)\r\n",
    "\r\n",
    "for _ in range(1000):\r\n",
    "    optimizer.zero_grad()\r\n",
    "    x = torch.Tensor([[1,2,3]])\r\n",
    "    xS = torch.zeros_like(x)\r\n",
    "    labels = torch.LongTensor([0])\r\n",
    "\r\n",
    "    x1, xS1 = fc1(x, xS)\r\n",
    "    x1.retain_grad()\r\n",
    "    xS1.retain_grad()\r\n",
    "    x2, xS2 = relu(x1, xS1)\r\n",
    "    x2.retain_grad()\r\n",
    "    xS2.retain_grad()\r\n",
    "    x3, xS3 = fc2(x2, xS2)\r\n",
    "    x3.retain_grad()\r\n",
    "    xS3.retain_grad()\r\n",
    "\r\n",
    "    loss = criteria(x3, xS3, labels)\r\n",
    "    loss.backward()\r\n",
    "    optimizer.step()\r\n",
    "\r\n",
    "optimizer = torch.optim.SGD(list(fc1.parameters()) + list(fc2.parameters()), 0)\r\n",
    "optimizer.zero_grad()\r\n",
    "x = torch.Tensor([[1,2,3]])\r\n",
    "xS = torch.zeros_like(x)\r\n",
    "labels = torch.LongTensor([0])\r\n",
    "\r\n",
    "x1, xS1 = fc1(x, xS)\r\n",
    "x1.retain_grad()\r\n",
    "xS1.retain_grad()\r\n",
    "x2, xS2 = relu(x1, xS1)\r\n",
    "x2.retain_grad()\r\n",
    "xS2.retain_grad()\r\n",
    "x3, xS3 = fc2(x2, xS2)\r\n",
    "x3.retain_grad()\r\n",
    "xS3.retain_grad()\r\n",
    "\r\n",
    "loss = criteria(x3, xS3, labels)\r\n",
    "if loss < 1e-3:\r\n",
    "    loss.backward()"
   ]
  },
  {
   "cell_type": "code",
   "execution_count": 41,
   "metadata": {},
   "outputs": [
    {
     "data": {
      "text/plain": [
       "tensor(0.0001, grad_fn=<SCrossEntropyLossFunctionBackward>)"
      ]
     },
     "execution_count": 41,
     "metadata": {},
     "output_type": "execute_result"
    }
   ],
   "source": [
    "loss"
   ]
  },
  {
   "cell_type": "code",
   "execution_count": 42,
   "metadata": {},
   "outputs": [
    {
     "data": {
      "text/plain": [
       "tensor([[1.2790e-04, 5.2293e-05, 7.5599e-05]])"
      ]
     },
     "execution_count": 42,
     "metadata": {},
     "output_type": "execute_result"
    }
   ],
   "source": [
    "xS3.grad"
   ]
  },
  {
   "cell_type": "code",
   "execution_count": 45,
   "metadata": {},
   "outputs": [
    {
     "data": {
      "text/plain": [
       "tensor([1.2791e-04, 5.2293e-05, 7.5599e-05], grad_fn=<DiagBackward>)"
      ]
     },
     "execution_count": 45,
     "metadata": {},
     "output_type": "execute_result"
    }
   ],
   "source": [
    "CECross(x3).view(3,3).diag()"
   ]
  },
  {
   "cell_type": "code",
   "execution_count": null,
   "metadata": {},
   "outputs": [],
   "source": []
  }
 ],
 "metadata": {
  "interpreter": {
   "hash": "04f3ce0738d928d74413a2b10d0d4c487f39bbf2ffd0e3f43a6ab028b956cd75"
  },
  "kernelspec": {
   "display_name": "Python 3.7.4 64-bit ('base': conda)",
   "name": "python3"
  },
  "language_info": {
   "codemirror_mode": {
    "name": "ipython",
    "version": 3
   },
   "file_extension": ".py",
   "mimetype": "text/x-python",
   "name": "python",
   "nbconvert_exporter": "python",
   "pygments_lexer": "ipython3",
   "version": "3.7.4"
  },
  "orig_nbformat": 4
 },
 "nbformat": 4,
 "nbformat_minor": 2
}