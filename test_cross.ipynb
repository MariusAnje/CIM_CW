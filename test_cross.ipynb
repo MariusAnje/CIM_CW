{
 "metadata": {
  "language_info": {
   "codemirror_mode": {
    "name": "ipython",
    "version": 3
   },
   "file_extension": ".py",
   "mimetype": "text/x-python",
   "name": "python",
   "nbconvert_exporter": "python",
   "pygments_lexer": "ipython3",
   "version": "3.6.8"
  },
  "orig_nbformat": 4,
  "kernelspec": {
   "name": "python3",
   "display_name": "Python 3.6.8 64-bit"
  },
  "interpreter": {
   "hash": "f09c96bd4e15584f4d9e293bfe8df79352bc2ff8b62e2c337721549e56de9c71"
  }
 },
 "nbformat": 4,
 "nbformat_minor": 2,
 "cells": [
  {
   "cell_type": "code",
   "execution_count": 1,
   "metadata": {},
   "outputs": [],
   "source": [
    "import torch\n",
    "from modules import SConv2d, SLinear, SModel, SReLU\n",
    "from models import SCrossEntropyLoss"
   ]
  },
  {
   "cell_type": "code",
   "execution_count": 2,
   "metadata": {},
   "outputs": [],
   "source": [
    "fc1 = SLinear(3,3)\n",
    "fc1.op.weight.data = torch.Tensor(list(range(1,10))).view(fc1.op.weight.shape) * 0.1\n",
    "fc1.op.bias.data = torch.zeros_like(fc1.op.bias)\n",
    "fc2 = SLinear(3,3)\n",
    "fc2.op.weight.data = torch.Tensor(list(range(9,0,-1))).view(fc2.op.weight.shape) * 0.1\n",
    "fc2.op.weight.data[0,0] = 2\n",
    "fc2.op.bias.data = torch.zeros_like(fc2.op.bias)\n",
    "relu = SReLU()\n",
    "criteria = SCrossEntropyLoss()\n",
    "optimizer = torch.optim.SGD(list(fc1.parameters()) + list(fc2.parameters()), 0)\n",
    "\n",
    "optimizer.zero_grad()\n",
    "x = torch.Tensor([[1,2,3]])\n",
    "xS = torch.zeros_like(x)\n",
    "labels = torch.LongTensor([0])\n",
    "\n",
    "x1, xS1 = fc1(x, xS)\n",
    "x1.retain_grad()\n",
    "xS1.retain_grad()\n",
    "x2, xS2 = relu(x1, xS1)\n",
    "x2.retain_grad()\n",
    "xS2.retain_grad()\n",
    "x3, xS3 = fc2(x2, xS2)\n",
    "x3.retain_grad()\n",
    "xS3.retain_grad()\n",
    "\n",
    "loss = criteria(x3, xS3, labels)\n",
    "loss.backward()"
   ]
  },
  {
   "cell_type": "code",
   "execution_count": 3,
   "metadata": {},
   "outputs": [],
   "source": [
    "# x3SG = torch.Tensor([[0.0123928,-0.0117341,-0.000658689,-0.0117341,0.011742,-7.92681E-6,-0.000658689,-7.92681E-6,0.000666616]]).view(1,3,3)\n",
    "# x1SG = torch.Tensor([[0.0249031,0.00560088,0.00560088,0.00560088,0.00129391,0.00129391,0.00560088,0.00129391,0.00129391]]).view(1,3,3)"
   ]
  },
  {
   "cell_type": "code",
   "execution_count": 4,
   "metadata": {},
   "outputs": [],
   "source": [
    "def CECross(output):\n",
    "    BS = output.shape[0]\n",
    "    e3 = (output - output.max()).exp()\n",
    "    e3_sum = e3.sum()\n",
    "    ratio = (e3 / e3_sum).view(BS,1,-1)\n",
    "\n",
    "    return (torch.diag_embed(ratio.view(BS,-1),0,1) - ratio.swapaxes(1,2).bmm(ratio))\n",
    "x3SG = CECross(x3)"
   ]
  },
  {
   "cell_type": "code",
   "execution_count": 6,
   "metadata": {},
   "outputs": [],
   "source": [
    "x1SG = torch.zeros(1,3,3)\n",
    "for i in range(3):\n",
    "    for j in range(3):\n",
    "        for k in range(3):\n",
    "            for m in range(3):\n",
    "                x1SG[:,i,j] += x3SG[:,k,m] * fc2.op.weight[k,i] * fc2.op.weight[m,j]"
   ]
  },
  {
   "cell_type": "code",
   "execution_count": 7,
   "metadata": {},
   "outputs": [],
   "source": [
    "def crossSecond(IN, outS):\n",
    "    BS = IN.shape[0]\n",
    "    IN = IN.view(BS,1,-1)\n",
    "    return IN.swapaxes(1,2).bmm(IN).view(BS,1,-1).swapaxes(1,2).bmm(outS.view(BS,1,-1))\n",
    "fc1WSG = crossSecond(x,  x1SG)\n",
    "fc2WSG = crossSecond(x2, x3SG)"
   ]
  },
  {
   "cell_type": "code",
   "execution_count": 5,
   "metadata": {},
   "outputs": [
    {
     "output_type": "execute_result",
     "data": {
      "text/plain": [
       "tensor([[[0.0249, 0.0056, 0.0056, 0.0056, 0.0013, 0.0013, 0.0056, 0.0013,\n",
       "          0.0013],\n",
       "         [0.0498, 0.0112, 0.0112, 0.0112, 0.0026, 0.0026, 0.0112, 0.0026,\n",
       "          0.0026],\n",
       "         [0.0747, 0.0168, 0.0168, 0.0168, 0.0039, 0.0039, 0.0168, 0.0039,\n",
       "          0.0039],\n",
       "         [0.0498, 0.0112, 0.0112, 0.0112, 0.0026, 0.0026, 0.0112, 0.0026,\n",
       "          0.0026],\n",
       "         [0.0996, 0.0224, 0.0224, 0.0224, 0.0052, 0.0052, 0.0224, 0.0052,\n",
       "          0.0052],\n",
       "         [0.1494, 0.0336, 0.0336, 0.0336, 0.0078, 0.0078, 0.0336, 0.0078,\n",
       "          0.0078],\n",
       "         [0.0747, 0.0168, 0.0168, 0.0168, 0.0039, 0.0039, 0.0168, 0.0039,\n",
       "          0.0039],\n",
       "         [0.1494, 0.0336, 0.0336, 0.0336, 0.0078, 0.0078, 0.0336, 0.0078,\n",
       "          0.0078],\n",
       "         [0.2241, 0.0504, 0.0504, 0.0504, 0.0116, 0.0116, 0.0504, 0.0116,\n",
       "          0.0116]]])"
      ]
     },
     "metadata": {},
     "execution_count": 5
    }
   ],
   "source": [
    "fc1WSG"
   ]
  },
  {
   "cell_type": "code",
   "execution_count": 6,
   "metadata": {},
   "outputs": [
    {
     "output_type": "execute_result",
     "data": {
      "text/plain": [
       "tensor([[[ 2.4290e-02, -2.2999e-02, -1.2910e-03, -2.2999e-02,  2.3014e-02,\n",
       "          -1.5537e-05, -1.2910e-03, -1.5537e-05,  1.3066e-03],\n",
       "         [ 5.5520e-02, -5.2569e-02, -2.9509e-03, -5.2569e-02,  5.2604e-02,\n",
       "          -3.5512e-05, -2.9509e-03, -3.5512e-05,  2.9864e-03],\n",
       "         [ 8.6750e-02, -8.2139e-02, -4.6108e-03, -8.2139e-02,  8.2194e-02,\n",
       "          -5.5488e-05, -4.6108e-03, -5.5488e-05,  4.6663e-03],\n",
       "         [ 5.5520e-02, -5.2569e-02, -2.9509e-03, -5.2569e-02,  5.2604e-02,\n",
       "          -3.5512e-05, -2.9509e-03, -3.5512e-05,  2.9864e-03],\n",
       "         [ 1.2690e-01, -1.2016e-01, -6.7450e-03, -1.2016e-01,  1.2024e-01,\n",
       "          -8.1171e-05, -6.7450e-03, -8.1171e-05,  6.8261e-03],\n",
       "         [ 1.9828e-01, -1.8775e-01, -1.0539e-02, -1.8775e-01,  1.8787e-01,\n",
       "          -1.2683e-04, -1.0539e-02, -1.2683e-04,  1.0666e-02],\n",
       "         [ 8.6750e-02, -8.2139e-02, -4.6108e-03, -8.2139e-02,  8.2194e-02,\n",
       "          -5.5488e-05, -4.6108e-03, -5.5488e-05,  4.6663e-03],\n",
       "         [ 1.9828e-01, -1.8775e-01, -1.0539e-02, -1.8775e-01,  1.8787e-01,\n",
       "          -1.2683e-04, -1.0539e-02, -1.2683e-04,  1.0666e-02],\n",
       "         [ 3.0982e-01, -2.9335e-01, -1.6467e-02, -2.9335e-01,  2.9355e-01,\n",
       "          -1.9817e-04, -1.6467e-02, -1.9817e-04,  1.6665e-02]]],\n",
       "       grad_fn=<BmmBackward0>)"
      ]
     },
     "metadata": {},
     "execution_count": 6
    }
   ],
   "source": [
    "fc2WSG"
   ]
  },
  {
   "cell_type": "code",
   "execution_count": null,
   "metadata": {},
   "outputs": [],
   "source": []
  }
 ]
}