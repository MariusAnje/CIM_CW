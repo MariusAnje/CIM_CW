{
 "metadata": {
  "language_info": {
   "codemirror_mode": {
    "name": "ipython",
    "version": 3
   },
   "file_extension": ".py",
   "mimetype": "text/x-python",
   "name": "python",
   "nbconvert_exporter": "python",
   "pygments_lexer": "ipython3",
   "version": "3.7.4"
  },
  "orig_nbformat": 2,
  "kernelspec": {
   "name": "python374jvsc74a57bd004f3ce0738d928d74413a2b10d0d4c487f39bbf2ffd0e3f43a6ab028b956cd75",
   "display_name": "Python 3.7.4 64-bit ('base': conda)"
  }
 },
 "nbformat": 4,
 "nbformat_minor": 2,
 "cells": [
  {
   "cell_type": "code",
   "execution_count": 1,
   "metadata": {},
   "outputs": [],
   "source": [
    "import numpy as np"
   ]
  },
  {
   "source": [
    "p = 0.05"
   ],
   "cell_type": "markdown",
   "metadata": {}
  },
  {
   "cell_type": "code",
   "execution_count": 4,
   "metadata": {},
   "outputs": [
    {
     "output_type": "stream",
     "name": "stdout",
     "text": [
      "9669.066666666668\n9088.933333333332\n9314.266666666666\n8486.866666666667\n9627.2\n9166.666666666666\n"
     ]
    }
   ],
   "source": [
    "NMNN = [9673, 9677, 9677, 9678, 9653, 9663, 9693, 9692, 9690, 9626, 9641, 9652, 9661, 9684, 9676, ]\n",
    "NMWN = [9135, 9167, 8954, 9262, 9148, 9060, 9116, 9043, 9004, 9030, 8801, 9188, 9153, 9072, 9201, ]\n",
    "WMNN = [9380, 9392, 9469, 8805, 9462, 9538, 9459, 9559, 9437, 9071, 9292, 8847, 9414, 9570, 9019, ]\n",
    "WMWN = [8205, 8584, 8534, 8276, 8533, 8806, 8554, 8717, 8574, 7996, 8113, 8308, 8784, 8893, 8426, ]\n",
    "FTNN = [9658, 9671, 9631, 9674, 9636, 9654, 9665, 9694, 9688, 9096, 9634, 9667, 9685, 9670, 9685, ]\n",
    "FTWN = [9191, 9263, 8988, 9260, 9183, 9013, 9156, 9296, 9131, 9106, 9033, 9297, 9172, 9180, 9231, ]\n",
    "print(np.mean(NMNN))\n",
    "print(np.mean(NMWN))\n",
    "print(np.mean(WMNN))\n",
    "print(np.mean(WMWN))\n",
    "print(np.mean(FTNN))\n",
    "print(np.mean(FTWN))"
   ]
  },
  {
   "source": [
    "p = 0.01"
   ],
   "cell_type": "markdown",
   "metadata": {}
  },
  {
   "cell_type": "code",
   "execution_count": 5,
   "metadata": {},
   "outputs": [
    {
     "output_type": "stream",
     "name": "stdout",
     "text": [
      "9656.333333333334\n9131.666666666666\n9567.888888888889\n8956.333333333334\n9633.888888888889\n9120.888888888889\n"
     ]
    }
   ],
   "source": [
    "NMNN = [9656, 9651, 9664, 9637, 9640, 9648, 9676, 9662, 9673, ]\n",
    "NMWN = [9097, 9120, 9019, 9192, 9240, 9209, 9122, 9111, 9075, ]\n",
    "WMNN = [9619, 9615, 9468, 9616, 9617, 9506, 9428, 9594, 9648, ]\n",
    "WMWN = [9071, 8912, 8613, 9185, 9185, 8988, 8631, 9012, 9010, ]\n",
    "FTNN = [9631, 9607, 9597, 9624, 9606, 9623, 9671, 9665, 9681, ]\n",
    "FTWN = [9083, 9063, 9000, 9222, 9209, 9157, 9066, 9180, 9108, ]\n",
    "print(np.mean(NMNN))\n",
    "print(np.mean(NMWN))\n",
    "print(np.mean(WMNN))\n",
    "print(np.mean(WMWN))\n",
    "print(np.mean(FTNN))\n",
    "print(np.mean(FTWN))"
   ]
  },
  {
   "source": [
    "p = 0.1"
   ],
   "cell_type": "markdown",
   "metadata": {}
  },
  {
   "cell_type": "code",
   "execution_count": 6,
   "metadata": {},
   "outputs": [
    {
     "output_type": "stream",
     "name": "stdout",
     "text": [
      "9655.8\n9164.8\n8642.8\n7801.2\n9588.2\n9104.4\n"
     ]
    }
   ],
   "source": [
    "NMNN = [9663, 9657, 9627, 9660, 9672, ]\n",
    "NMWN = [9183, 9276, 9048, 9158, 9159, ]\n",
    "WMNN = [7394, 8539, 8970, 9324, 8987, ]\n",
    "WMWN = [6893, 7965, 7712, 8538, 7898, ]\n",
    "FTNN = [9434, 9632, 9558, 9635, 9682, ]\n",
    "FTWN = [8882, 9277, 9061, 9067, 9235, ]\n",
    "print(np.mean(NMNN))\n",
    "print(np.mean(NMWN))\n",
    "print(np.mean(WMNN))\n",
    "print(np.mean(WMWN))\n",
    "print(np.mean(FTNN))\n",
    "print(np.mean(FTWN))"
   ]
  },
  {
   "cell_type": "code",
   "execution_count": null,
   "metadata": {},
   "outputs": [],
   "source": []
  }
 ]
}