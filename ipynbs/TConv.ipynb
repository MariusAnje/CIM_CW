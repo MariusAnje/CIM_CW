{
 "metadata": {
  "language_info": {
   "codemirror_mode": {
    "name": "ipython",
    "version": 3
   },
   "file_extension": ".py",
   "mimetype": "text/x-python",
   "name": "python",
   "nbconvert_exporter": "python",
   "pygments_lexer": "ipython3",
   "version": "3.7.4"
  },
  "orig_nbformat": 2,
  "kernelspec": {
   "name": "python374jvsc74a57bd004f3ce0738d928d74413a2b10d0d4c487f39bbf2ffd0e3f43a6ab028b956cd75",
   "display_name": "Python 3.7.4 64-bit ('base': conda)"
  }
 },
 "nbformat": 4,
 "nbformat_minor": 2,
 "cells": [
  {
   "cell_type": "code",
   "execution_count": 3,
   "metadata": {},
   "outputs": [],
   "source": [
    "import torch\n",
    "from tqdm.notebook import tqdm"
   ]
  },
  {
   "cell_type": "code",
   "execution_count": 4,
   "metadata": {},
   "outputs": [],
   "source": [
    "def shift(c, size, i):\n",
    "    res = torch.zeros(size, device=c.device)\n",
    "    res[:i] = c[i:]\n",
    "    return res\n",
    "\n",
    "def toeplitz(c, r):\n",
    "    if len(c.size()) == 3:\n",
    "        IC, OC, l_r = r.size()\n",
    "        l_c = c.size()[-1]\n",
    "        res = torch.zeros(IC,OC, l_c, l_r, device=c.device)\n",
    "        # p = torch.zeros(len(c))\n",
    "        # c = torch.cat([p,c.flip(0)])\n",
    "        c = c.flip(2)\n",
    "        c = torch.cat([c,c],dim=2)\n",
    "        for i in range(1, l_c + 1):\n",
    "            if i <= l_r:\n",
    "                res[:,:,i-1,:i] = c[:,:,-i:]\n",
    "            else:\n",
    "                res[:,:,i-1,:] = c[:,:,-i:-i+l_r]\n",
    "        return res\n",
    "    if len(c.size()) == 1:\n",
    "        l_r = r.size()[0]\n",
    "        l_c = c.size()[0]\n",
    "        res = torch.zeros(l_c, l_r, device=c.device)\n",
    "        # p = torch.zeros(len(c))\n",
    "        # c = torch.cat([p,c.flip(0)])\n",
    "        c = c.flip(0)\n",
    "        c = torch.cat([c,c])\n",
    "        for i in range(1, l_c + 1):\n",
    "            if i <= l_r:\n",
    "                res[i-1,:i] = c[-i:]\n",
    "            else:\n",
    "                res[i-1,:] = c[-i:-i+l_r]\n",
    "        return res\n",
    "\n",
    "def vector_to_matrix(input, output_shape):\n",
    "    B, C, output_h, output_w = output_shape\n",
    "    output = input.view(B, C, output_h, output_w)\n",
    "    output=torch.flip(output,dims=[-2])\n",
    "    return output\n",
    "\n",
    "def matrix_to_vector(input):\n",
    "    B, C, input_h, input_w = input.shape\n",
    "    input = torch.flip(input,dims=[-2]) \n",
    "    output_vector = input.view(B,C,-1)\n",
    "        \n",
    "    return output_vector\n"
   ]
  },
  {
   "cell_type": "code",
   "execution_count": 5,
   "metadata": {},
   "outputs": [],
   "source": [
    "def conv2d(I,F):\n",
    "    # st = time.time()\n",
    "    I_B, I_C, I_row_num, I_col_num = I.size() \n",
    "\n",
    "    # number of columns and rows of the filter\n",
    "    F_CO, F_CI, F_row_num, F_col_num = F.size()\n",
    "\n",
    "    #  calculate the output dimensions\n",
    "    output_row_num = I_row_num + F_row_num - 1\n",
    "    output_col_num = I_col_num + F_col_num - 1\n",
    "\n",
    "    F_zero_padded = torch.zeros(F_CO, F_CI, output_row_num, output_col_num, device=I.device)\n",
    "    F_zero_padded[:, :, -F_row_num:, :F_col_num] = F\n",
    "    del(F)\n",
    "\n",
    "    toeplitz_list = torch.zeros(F_zero_padded.shape[2], F_CO, F_CI, output_col_num ,I_row_num)\n",
    "    for i in range(F_zero_padded.shape[2]-1, -1, -1): # iterate from last row to the first row\n",
    "        c = F_zero_padded[:, :, i, :] # i th row of the F \n",
    "        r = torch.zeros(F_CO, F_CI, I_col_num, device=I.device)\n",
    "        r[:,:,0] = c[:,:,0]\n",
    "        toeplitz_m = toeplitz(c, r)\n",
    "        toeplitz_list[F_zero_padded.shape[2]-1-i,:,:,:,:] = toeplitz_m\n",
    "\n",
    "    c = torch.Tensor(range(1, F_zero_padded.shape[2]+1)).to(I.device)\n",
    "    r = torch.zeros(I_row_num, device=I.device)\n",
    "    r[0] = c[0]\n",
    "    doubly_indices = toeplitz(c, r).to(torch.int)\n",
    "\n",
    "    h = output_col_num * doubly_indices.shape[0]\n",
    "    w = I_row_num * doubly_indices.shape[1]\n",
    "    doubly_blocked_shape = [F_CO, F_CI, h, w]\n",
    "    doubly_blocked = torch.zeros(doubly_blocked_shape, device=I.device)\n",
    "\n",
    "    for i in range(doubly_indices.shape[0]):\n",
    "        for j in range(doubly_indices.shape[1]):\n",
    "            start_i = i * output_col_num\n",
    "            start_j = j * I_row_num\n",
    "            end_i = start_i + output_col_num\n",
    "            end_j = start_j + I_row_num\n",
    "            doubly_blocked[:,:,start_i: end_i, start_j:end_j] = toeplitz_list[doubly_indices[i,j]-1,:,:,:,:]\n",
    "    \n",
    "    # print(\"sad\")\n",
    "    # print(doubly_blocked.shape)\n",
    "    vectorized_I = matrix_to_vector(I)\n",
    "    # print(vectorized_I.shape)\n",
    "    # print(vectorized_I)\n",
    "    output_size = output_row_num * output_col_num\n",
    "    output_vect = torch.zeros(I_B, F_CO, output_size, device=I.device)\n",
    "    # print(doubly_blocked.shape)\n",
    "    # for i in tqdm(range(I_B)):\n",
    "    # for i in range(I_B):\n",
    "    # print(time.time() - st)\n",
    "    for k in range(I_C):\n",
    "        # print(doubly_blocked[:,k].reshape(1,F_CO*h,w).expand(I_B,F_CO*h,w).size())\n",
    "        output_vect[:,:,:] += torch.bmm(doubly_blocked[:,k].reshape(1,F_CO*h,w).expand(I_B,F_CO*h,w), vectorized_I[:,k,:].view(I_B,I_row_num * I_col_num,1)).view(I_B,F_CO, output_size)\n",
    "    out_shape = [I_B, F_CO, output_row_num, output_col_num]\n",
    "    my_output = vector_to_matrix(output_vect, out_shape)\n",
    "    # print(time.time() - st)\n",
    "    return my_output"
   ]
  },
  {
   "cell_type": "code",
   "execution_count": 4,
   "metadata": {
    "tags": []
   },
   "outputs": [
    {
     "output_type": "stream",
     "name": "stdout",
     "text": [
      "0.00799870491027832\n0.01299738883972168\ntensor(1.)\n"
     ]
    }
   ],
   "source": [
    "import time\n",
    "# device = torch.device(\"cuda:0\")\n",
    "device = torch.device(\"cpu\")\n",
    "I = torch.randn(32,16,4,4).to(device)\n",
    "F = torch.randn(64,16,3,3).to(device)\n",
    "# I = torch.Tensor([[[[1, 2, 3], [4, 5, 6], [7,8,9]], [[1, 2, 3], [4, 5, 6], [7,8,9]]]])\n",
    "# I = torch.ones(1,2,3,3)\n",
    "model = torch.nn.Conv2d(16,64,3,padding=2).to(device)\n",
    "# F = torch.Tensor([[[[10, 20, 30], [40, 50, 60], [70, 80, 90]],[[10, 20, 30], [40, 50, 60], [70, 80, 90]]]])\n",
    "# F = torch.ones(1,2,3,3)\n",
    "model.weight.data = F.flip(dims=[-1,-2])\n",
    "model.bias.data = torch.zeros_like(model.bias)\n",
    "# print(I.shape)\n",
    "m_res = model(I)\n",
    "st = time.time()\n",
    "a = lol(I,F)#.numpy()\n",
    "# print(torch.prod(torch.Tensor(a.shape)))\n",
    "print(time.time() - st)\n",
    "print(((a - m_res).abs() < 1e-4).sum() / torch.prod(torch.Tensor(list(a.shape))))"
   ]
  },
  {
   "cell_type": "code",
   "execution_count": 5,
   "metadata": {},
   "outputs": [
    {
     "output_type": "display_data",
     "data": {
      "text/plain": "HBox(children=(HTML(value=''), FloatProgress(value=0.0), HTML(value='')))",
      "application/vnd.jupyter.widget-view+json": {
       "version_major": 2,
       "version_minor": 0,
       "model_id": "9ac85b5074994fc09a6e28d980ab80e4"
      }
     },
     "metadata": {}
    },
    {
     "output_type": "stream",
     "name": "stdout",
     "text": [
      "0.3860034942626953\n",
      "0.3379991054534912\n",
      "0.33497095108032227\n",
      "0.3455071449279785\n",
      "0.32750844955444336\n",
      "0.32900023460388184\n",
      "0.32897496223449707\n",
      "0.3277566432952881\n",
      "0.32399940490722656\n",
      "0.3249998092651367\n",
      "0.32599878311157227\n",
      "0.3249692916870117\n",
      "0.32299137115478516\n",
      "0.32497525215148926\n",
      "0.312999963760376\n",
      "0.31400060653686523\n",
      "0.3275115489959717\n",
      "0.31897616386413574\n",
      "0.31996941566467285\n",
      "0.324970006942749\n",
      "0.32900142669677734\n",
      "0.32297492027282715\n",
      "0.32697081565856934\n",
      "0.3319997787475586\n",
      "0.3260176181793213\n",
      "0.3249998092651367\n",
      "0.3359689712524414\n",
      "0.3640003204345703\n",
      "\n"
     ]
    },
    {
     "output_type": "error",
     "ename": "KeyboardInterrupt",
     "evalue": "",
     "traceback": [
      "\u001b[1;31m---------------------------------------------------------------------------\u001b[0m",
      "\u001b[1;31mKeyboardInterrupt\u001b[0m                         Traceback (most recent call last)",
      "\u001b[1;32m<ipython-input-5-da1bdd2ee2ea>\u001b[0m in \u001b[0;36m<module>\u001b[1;34m\u001b[0m\n\u001b[0;32m      8\u001b[0m     \u001b[0mF\u001b[0m \u001b[1;33m=\u001b[0m \u001b[0mtorch\u001b[0m\u001b[1;33m.\u001b[0m\u001b[0mrandn\u001b[0m\u001b[1;33m(\u001b[0m\u001b[1;36m64\u001b[0m\u001b[1;33m,\u001b[0m\u001b[1;36m64\u001b[0m\u001b[1;33m,\u001b[0m\u001b[1;36m3\u001b[0m\u001b[1;33m,\u001b[0m\u001b[1;36m3\u001b[0m\u001b[1;33m)\u001b[0m\u001b[1;33m.\u001b[0m\u001b[0mto\u001b[0m\u001b[1;33m(\u001b[0m\u001b[0mdevice\u001b[0m\u001b[1;33m)\u001b[0m\u001b[1;33m\u001b[0m\u001b[1;33m\u001b[0m\u001b[0m\n\u001b[0;32m      9\u001b[0m     \u001b[0mst\u001b[0m \u001b[1;33m=\u001b[0m \u001b[0mtime\u001b[0m\u001b[1;33m.\u001b[0m\u001b[0mtime\u001b[0m\u001b[1;33m(\u001b[0m\u001b[1;33m)\u001b[0m\u001b[1;33m\u001b[0m\u001b[1;33m\u001b[0m\u001b[0m\n\u001b[1;32m---> 10\u001b[1;33m     \u001b[0ma\u001b[0m \u001b[1;33m=\u001b[0m \u001b[0mlol\u001b[0m\u001b[1;33m(\u001b[0m\u001b[0mI\u001b[0m\u001b[1;33m,\u001b[0m\u001b[0mF\u001b[0m\u001b[1;33m)\u001b[0m\u001b[1;33m\u001b[0m\u001b[1;33m\u001b[0m\u001b[0m\n\u001b[0m\u001b[0;32m     11\u001b[0m     \u001b[0mtime_list\u001b[0m\u001b[1;33m.\u001b[0m\u001b[0mappend\u001b[0m\u001b[1;33m(\u001b[0m\u001b[0mtime\u001b[0m\u001b[1;33m.\u001b[0m\u001b[0mtime\u001b[0m\u001b[1;33m(\u001b[0m\u001b[1;33m)\u001b[0m\u001b[1;33m-\u001b[0m\u001b[0mst\u001b[0m\u001b[1;33m)\u001b[0m\u001b[1;33m\u001b[0m\u001b[1;33m\u001b[0m\u001b[0m\n\u001b[0;32m     12\u001b[0m \u001b[0mprint\u001b[0m\u001b[1;33m(\u001b[0m\u001b[0mnp\u001b[0m\u001b[1;33m.\u001b[0m\u001b[0mmean\u001b[0m\u001b[1;33m(\u001b[0m\u001b[0mtime_list\u001b[0m\u001b[1;33m)\u001b[0m\u001b[1;33m)\u001b[0m\u001b[1;33m\u001b[0m\u001b[1;33m\u001b[0m\u001b[0m\n",
      "\u001b[1;32m<ipython-input-3-0f19d8579cbc>\u001b[0m in \u001b[0;36mlol\u001b[1;34m(***failed resolving arguments***)\u001b[0m\n\u001b[0;32m     38\u001b[0m             \u001b[0mend_i\u001b[0m \u001b[1;33m=\u001b[0m \u001b[0mstart_i\u001b[0m \u001b[1;33m+\u001b[0m \u001b[0moutput_col_num\u001b[0m\u001b[1;33m\u001b[0m\u001b[1;33m\u001b[0m\u001b[0m\n\u001b[0;32m     39\u001b[0m             \u001b[0mend_j\u001b[0m \u001b[1;33m=\u001b[0m \u001b[0mstart_j\u001b[0m \u001b[1;33m+\u001b[0m \u001b[0mI_row_num\u001b[0m\u001b[1;33m\u001b[0m\u001b[1;33m\u001b[0m\u001b[0m\n\u001b[1;32m---> 40\u001b[1;33m             \u001b[0mdoubly_blocked\u001b[0m\u001b[1;33m[\u001b[0m\u001b[1;33m:\u001b[0m\u001b[1;33m,\u001b[0m\u001b[1;33m:\u001b[0m\u001b[1;33m,\u001b[0m\u001b[0mstart_i\u001b[0m\u001b[1;33m:\u001b[0m \u001b[0mend_i\u001b[0m\u001b[1;33m,\u001b[0m \u001b[0mstart_j\u001b[0m\u001b[1;33m:\u001b[0m\u001b[0mend_j\u001b[0m\u001b[1;33m]\u001b[0m \u001b[1;33m=\u001b[0m \u001b[0mtoeplitz_list\u001b[0m\u001b[1;33m[\u001b[0m\u001b[0mdoubly_indices\u001b[0m\u001b[1;33m[\u001b[0m\u001b[0mi\u001b[0m\u001b[1;33m,\u001b[0m\u001b[0mj\u001b[0m\u001b[1;33m]\u001b[0m\u001b[1;33m-\u001b[0m\u001b[1;36m1\u001b[0m\u001b[1;33m,\u001b[0m\u001b[1;33m:\u001b[0m\u001b[1;33m,\u001b[0m\u001b[1;33m:\u001b[0m\u001b[1;33m,\u001b[0m\u001b[1;33m:\u001b[0m\u001b[1;33m,\u001b[0m\u001b[1;33m:\u001b[0m\u001b[1;33m]\u001b[0m\u001b[1;33m\u001b[0m\u001b[1;33m\u001b[0m\u001b[0m\n\u001b[0m\u001b[0;32m     41\u001b[0m \u001b[1;33m\u001b[0m\u001b[0m\n\u001b[0;32m     42\u001b[0m     \u001b[1;31m# print(\"sad\")\u001b[0m\u001b[1;33m\u001b[0m\u001b[1;33m\u001b[0m\u001b[1;33m\u001b[0m\u001b[0m\n",
      "\u001b[1;31mKeyboardInterrupt\u001b[0m: "
     ]
    }
   ],
   "source": [
    "import numpy as np\n",
    "# device = torch.device(\"cpu\")\n",
    "device = torch.device(\"cuda:0\")\n",
    "total_runs = 100\n",
    "time_list = []\n",
    "for _ in tqdm(range(total_runs)):\n",
    "    I = torch.randn(128,64,16,16).to(device)\n",
    "    F = torch.randn(64,64,3,3).to(device)\n",
    "    st = time.time()\n",
    "    a = lol(I,F)\n",
    "    time_list.append(time.time()-st)\n",
    "print(np.mean(time_list))"
   ]
  },
  {
   "cell_type": "code",
   "execution_count": 54,
   "metadata": {},
   "outputs": [],
   "source": [
    "a = torch.randn(32,1, 28,28)\n",
    "k1 = torch.randn(6,1,5,5)\n",
    "c1 = conv2d(a,k1)[:,:,2:-2,2:-2]\n",
    "c1 = torch.nn.functional.max_pool2d(c,2)\n",
    "k2 = torch.randn(16,6,5,5)\n",
    "c1 = conv2d(c1,k2)[:,:,2:-2,2:-2]"
   ]
  },
  {
   "cell_type": "code",
   "execution_count": 55,
   "metadata": {},
   "outputs": [
    {
     "output_type": "execute_result",
     "data": {
      "text/plain": [
       "torch.Size([32, 16, 7, 7])"
      ]
     },
     "metadata": {},
     "execution_count": 55
    }
   ],
   "source": [
    "c1.shape"
   ]
  },
  {
   "cell_type": "code",
   "execution_count": 57,
   "metadata": {},
   "outputs": [],
   "source": [
    "f = torch.nn.functional.conv2d\n",
    "\n",
    "c2 = f(a,k1.flip(dims=[-1,-2]),padding=2)\n",
    "c2 = torch.nn.functional.max_pool2d(c,2)\n",
    "c2 = f(c2,k2.flip(dims=[-1,-2]),padding=2)"
   ]
  },
  {
   "cell_type": "code",
   "execution_count": 59,
   "metadata": {},
   "outputs": [
    {
     "output_type": "execute_result",
     "data": {
      "text/plain": [
       "tensor(0.9997)"
      ]
     },
     "metadata": {},
     "execution_count": 59
    }
   ],
   "source": [
    "((c1 - c2).abs() < 1e-3).sum() / np.prod([32, 16, 7, 7])"
   ]
  },
  {
   "cell_type": "code",
   "execution_count": 41,
   "metadata": {},
   "outputs": [
    {
     "output_type": "execute_result",
     "data": {
      "text/plain": [
       "<function numpy.prod(a, axis=None, dtype=None, out=None, keepdims=<no value>, initial=<no value>, where=<no value>)>"
      ]
     },
     "metadata": {},
     "execution_count": 41
    }
   ],
   "source": [
    "import numpy as np\n",
    "np.prod"
   ]
  },
  {
   "cell_type": "code",
   "execution_count": null,
   "metadata": {},
   "outputs": [],
   "source": []
  }
 ]
}