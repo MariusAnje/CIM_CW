{
 "metadata": {
  "language_info": {
   "codemirror_mode": {
    "name": "ipython",
    "version": 3
   },
   "file_extension": ".py",
   "mimetype": "text/x-python",
   "name": "python",
   "nbconvert_exporter": "python",
   "pygments_lexer": "ipython3",
   "version": "3.7.4"
  },
  "orig_nbformat": 2,
  "kernelspec": {
   "name": "python374jvsc74a57bd004f3ce0738d928d74413a2b10d0d4c487f39bbf2ffd0e3f43a6ab028b956cd75",
   "display_name": "Python 3.7.4 64-bit ('base': conda)"
  }
 },
 "nbformat": 4,
 "nbformat_minor": 2,
 "cells": [
  {
   "cell_type": "code",
   "execution_count": 8,
   "metadata": {},
   "outputs": [],
   "source": [
    "import torch\n",
    "def is_nan(x):\n",
    "    return torch.isnan(x).sum() != 0"
   ]
  },
  {
   "cell_type": "code",
   "execution_count": 18,
   "metadata": {},
   "outputs": [],
   "source": [
    "a = torch.load(\"debug.pt\")\n",
    "a = torch.Tensor(a)"
   ]
  },
  {
   "cell_type": "code",
   "execution_count": 19,
   "metadata": {},
   "outputs": [
    {
     "output_type": "execute_result",
     "data": {
      "text/plain": [
       "tensor(nan)"
      ]
     },
     "metadata": {},
     "execution_count": 19
    }
   ],
   "source": [
    "a.max()"
   ]
  },
  {
   "cell_type": "code",
   "execution_count": 20,
   "metadata": {},
   "outputs": [
    {
     "output_type": "stream",
     "name": "stdout",
     "text": [
      "tensor(True)\n"
     ]
    }
   ],
   "source": [
    "print(is_nan(a))"
   ]
  },
  {
   "cell_type": "code",
   "execution_count": 21,
   "metadata": {},
   "outputs": [
    {
     "output_type": "execute_result",
     "data": {
      "text/plain": [
       "tensor(True)"
      ]
     },
     "metadata": {},
     "execution_count": 21
    }
   ],
   "source": [
    "is_nan(a / len(a))"
   ]
  },
  {
   "cell_type": "code",
   "execution_count": 22,
   "metadata": {},
   "outputs": [
    {
     "output_type": "execute_result",
     "data": {
      "text/plain": [
       "tensor(True)"
      ]
     },
     "metadata": {},
     "execution_count": 22
    }
   ],
   "source": [
    "is_nan((a - 1) * a)"
   ]
  },
  {
   "cell_type": "code",
   "execution_count": 23,
   "metadata": {},
   "outputs": [
    {
     "output_type": "execute_result",
     "data": {
      "text/plain": [
       "tensor([[5.4497e-09, 1.7637e-09, 2.7287e-06,  ..., 1.0000e+00, 9.0947e-11,\n",
       "         3.2483e-07],\n",
       "        [5.8383e-07, 9.9374e-01, 1.4822e-03,  ..., 2.6891e-06, 4.2445e-03,\n",
       "         1.0299e-07],\n",
       "        [1.8367e-08, 8.8904e-05, 9.9879e-01,  ..., 1.7398e-05, 1.3765e-05,\n",
       "         1.0885e-07],\n",
       "        ...,\n",
       "        [4.0761e-08, 4.2099e-07, 5.8573e-08,  ..., 1.3028e-07, 8.9395e-06,\n",
       "         9.0703e-07],\n",
       "        [2.1199e-08, 9.1506e-07, 2.9880e-11,  ..., 1.9518e-11, 5.5415e-07,\n",
       "         4.4829e-07],\n",
       "        [1.1981e-06, 9.1966e-09, 1.4422e-07,  ..., 2.0551e-04, 5.4684e-05,\n",
       "         9.9599e-01]])"
      ]
     },
     "metadata": {},
     "execution_count": 23
    }
   ],
   "source": [
    "a"
   ]
  },
  {
   "cell_type": "code",
   "execution_count": null,
   "metadata": {},
   "outputs": [],
   "source": []
  }
 ]
}