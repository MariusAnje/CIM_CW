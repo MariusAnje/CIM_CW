{
 "metadata": {
  "language_info": {
   "codemirror_mode": {
    "name": "ipython",
    "version": 3
   },
   "file_extension": ".py",
   "mimetype": "text/x-python",
   "name": "python",
   "nbconvert_exporter": "python",
   "pygments_lexer": "ipython3",
   "version": "3.7.4"
  },
  "orig_nbformat": 2,
  "kernelspec": {
   "name": "python374jvsc74a57bd004f3ce0738d928d74413a2b10d0d4c487f39bbf2ffd0e3f43a6ab028b956cd75",
   "display_name": "Python 3.7.4 64-bit ('base': conda)"
  }
 },
 "nbformat": 4,
 "nbformat_minor": 2,
 "cells": [
  {
   "cell_type": "code",
   "execution_count": 1,
   "metadata": {},
   "outputs": [],
   "source": [
    "import numpy as np\n",
    "import os"
   ]
  },
  {
   "cell_type": "code",
   "execution_count": 2,
   "metadata": {},
   "outputs": [],
   "source": [
    "def detect_namespace(namespace:str):\n",
    "    content = namespace[namespace.find(\"(\")+1:-1].split(\", \")\n",
    "    arg_dict = {}\n",
    "    for arg in content:\n",
    "        arg_type, arg_value = arg.split(\"=\")\n",
    "        arg_dict[arg_type] = arg_value\n",
    "    return arg_dict\n",
    "\n",
    "def get_acc(line:str, delimiter=\":\", precision=4):\n",
    "    index = line.find(delimiter) + len(delimiter)\n",
    "    acc = line[index:index + 3 + precision]\n",
    "    return float(acc)\n",
    "\n",
    "def parse_file(f):\n",
    "    for line in f:\n",
    "        if line.find(\"Namespace\") != -1:\n",
    "            arg_dict = detect_namespace(line)\n",
    "        if line.find(\"No mask noise average acc\") != -1:\n",
    "            NM = get_acc(line)\n",
    "        if line.find(\"Finetune noise average acc\") != -1:\n",
    "            FT = get_acc(line)\n",
    "    return arg_dict, NM, FT"
   ]
  },
  {
   "cell_type": "code",
   "execution_count": 3,
   "metadata": {},
   "outputs": [],
   "source": [
    "class PResultItem():\n",
    "    def __init__(self, main_key:float):\n",
    "        self.main_key = main_key\n",
    "        self.NM_list = []\n",
    "        self.FT_list = []\n",
    "    \n",
    "    def add_result(self, NM:float, FT:float):\n",
    "        assert len(self.NM_list) == len(self.FT_list)\n",
    "        self.NM_list.append(NM)\n",
    "        self.FT_list.append(FT)\n",
    "\n",
    "class PResult():\n",
    "    def __init__(self):\n",
    "        self.dict = {}\n",
    "    \n",
    "    def add_result(self, arg_dict:dict, NM:float, FT:float, main_key_str=\"mask_p\"):\n",
    "        # print(arg_dict)\n",
    "        main_key = float(arg_dict[main_key_str])\n",
    "        if not(main_key in self.dict.keys()):\n",
    "            self.dict[main_key] = PResultItem(main_key)\n",
    "        self.dict[main_key].add_result(NM, FT)"
   ]
  },
  {
   "cell_type": "code",
   "execution_count": 8,
   "metadata": {},
   "outputs": [],
   "source": [
    "dir_path = \"./results/eDiff\"\n",
    "file_blob = os.listdir(dir_path)\n",
    "main_key_str = \"mask_p\"\n",
    "main_key_str = \"train_epoch\"\n",
    "results = PResult()\n",
    "for fn in file_blob:\n",
    "    cfn = os.path.join(dir_path, fn)\n",
    "    with open(cfn) as f:\n",
    "        f = f.read().split(\"\\n\")\n",
    "    arg_dict, NM, FT = parse_file(f)\n",
    "    results.add_result(arg_dict, NM, FT, main_key_str)"
   ]
  },
  {
   "cell_type": "code",
   "execution_count": 9,
   "metadata": {},
   "outputs": [
    {
     "output_type": "stream",
     "name": "stdout",
     "text": [
      "train_epoch = 50.00, NM: 0.9401, FT: 0.9414, Gain: 0.0013\ntrain_epoch = 100.00, NM: 0.9378, FT: 0.9386, Gain: 0.0008\ntrain_epoch = 150.00, NM: 0.9424, FT: 0.9427, Gain: 0.0002\ntrain_epoch = 200.00, NM: 0.9424, FT: 0.9442, Gain: 0.0018\n"
     ]
    }
   ],
   "source": [
    "for j in np.sort(list(results.dict.keys())):\n",
    "    i = results.dict[j]\n",
    "    NM = np.mean(i.NM_list)\n",
    "    FT = np.mean(i.FT_list)\n",
    "    gain= FT - NM\n",
    "    print(f\"{main_key_str} = {i.main_key:.2f}, NM: {NM:.4f}, FT: {FT:.4f}, Gain: {gain:.4f}\")"
   ]
  },
  {
   "cell_type": "code",
   "execution_count": 7,
   "metadata": {},
   "outputs": [],
   "source": [
    "a = os.listdir(\"./results/traces\")"
   ]
  },
  {
   "cell_type": "code",
   "execution_count": null,
   "metadata": {},
   "outputs": [],
   "source": []
  }
 ]
}