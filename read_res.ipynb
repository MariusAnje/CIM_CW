{
 "cells": [
  {
   "cell_type": "code",
   "execution_count": 1,
   "source": [
    "import numpy as np\n",
    "import os"
   ],
   "outputs": [],
   "metadata": {}
  },
  {
   "cell_type": "code",
   "execution_count": 2,
   "source": [
    "def detect_namespace(namespace:str):\n",
    "    content = namespace[namespace.find(\"(\")+1:-1].split(\", \")\n",
    "    arg_dict = {}\n",
    "    for arg in content:\n",
    "        arg_type, arg_value = arg.split(\"=\")\n",
    "        arg_dict[arg_type] = arg_value\n",
    "    return arg_dict\n",
    "\n",
    "def get_acc(line:str, delimiter=\":\", precision=4):\n",
    "    index = line.find(delimiter) + len(delimiter)\n",
    "    acc = line[index:index + 3 + precision]\n",
    "    return float(acc)\n",
    "\n",
    "def get_std(line:str, delimiter=\"std:\", precision=4):\n",
    "    index = line.find(delimiter) + len(delimiter)\n",
    "    acc = line[index:index + 3 + precision]\n",
    "    return float(acc)\n",
    "\n",
    "def get_rm(line:str, delimiter=\"removed\", precision=4):\n",
    "    index = line.find(delimiter) + len(delimiter)\n",
    "    acc = line[index:index + 3 + precision]\n",
    "    return float(acc)\n",
    "\n",
    "def parse_file(f):\n",
    "    FT_max = 0\n",
    "    FT_std_max = 0\n",
    "    RM_max = 0\n",
    "    RM = 0\n",
    "    for line in f:\n",
    "        if line.find(\"Namespace\") != -1:\n",
    "            arg_dict = detect_namespace(line)\n",
    "        if line.find(\"No mask noise average acc\") != -1:\n",
    "            NM = get_acc(line)\n",
    "            NM_std = get_std(line)\n",
    "        if line.find(\"Finetune noise average acc\") != -1:\n",
    "            FT = get_acc(line)\n",
    "            FT_std = get_std(line)\n",
    "            if FT > FT_max:\n",
    "                FT_max = FT\n",
    "                FT_std_max = FT_std\n",
    "                RM_max = RM\n",
    "        if line.find(\"Total weights removed\") != -1:\n",
    "            RM = get_rm(line)\n",
    "    if FT_max == 0:\n",
    "        raise Exception\n",
    "    return arg_dict, NM, FT_max, NM_std, FT_std_max, RM_max\n",
    "\n",
    "def sort_keys(keys):\n",
    "    keys = np.array(list(keys))\n",
    "    sb_list = []\n",
    "    hp_list = []\n",
    "    tmp_sb = []\n",
    "    for i in keys:\n",
    "        tmp_sb.append(i[1])\n",
    "    arg = np.argsort(tmp_sb)\n",
    "    this_list = []\n",
    "    that_list = []\n",
    "    ttt = 0\n",
    "    for index in range(len(arg)):\n",
    "        i = keys[arg[index]][1]\n",
    "        j = keys[arg[index]][0]\n",
    "        if i != ttt:\n",
    "            if this_list != []:\n",
    "                sb_list.append(this_list)\n",
    "                hp_list.append(that_list)\n",
    "            ttt = i\n",
    "            this_list = []\n",
    "            that_list = []\n",
    "        this_list.append(i)\n",
    "        that_list.append(j)\n",
    "    if this_list != []:\n",
    "        sb_list.append(this_list)\n",
    "        hp_list.append(that_list)\n",
    "    for i in range(len(hp_list)):\n",
    "        hp_list[i] = np.sort(hp_list[i]).tolist()\n",
    "    return sb_list, hp_list"
   ],
   "outputs": [],
   "metadata": {}
  },
  {
   "cell_type": "code",
   "execution_count": 3,
   "source": [
    "class PResultItem():\n",
    "    def __init__(self, main_key:float):\n",
    "        self.main_key = main_key\n",
    "        self.NM_list = []\n",
    "        self.FT_list = []\n",
    "        self.NM_std_list = []\n",
    "        self.FT_std_list = []\n",
    "        self.RM_list = []\n",
    "    \n",
    "    def add_result(self, NM:float, FT:float, NM_std:float, FT_std:float, RM:float):\n",
    "        assert len(self.NM_list) == len(self.FT_list)\n",
    "        self.NM_list.append(NM)\n",
    "        self.FT_list.append(FT)\n",
    "        self.NM_std_list.append(NM_std)\n",
    "        self.FT_std_list.append(FT_std)\n",
    "        self.RM_list.append(RM)\n",
    "\n",
    "class PResult():\n",
    "    def __init__(self):\n",
    "        self.dict = {}\n",
    "    \n",
    "    def add_result(self, arg_dict:dict, NM:float, FT:float, NM_std:float, FT_std:float, RM:float, main_key_str=\"mask_p\", minor_key_str=\"alpha\"):\n",
    "        # print(arg_dict)\n",
    "        main_key = float(arg_dict[main_key_str])\n",
    "        minor_key = float(arg_dict[minor_key_str])\n",
    "        key = (main_key, minor_key)\n",
    "        if not(key in self.dict.keys()):\n",
    "            self.dict[key] = PResultItem(key)\n",
    "        self.dict[key].add_result(NM, FT, NM_std, FT_std, RM)"
   ],
   "outputs": [],
   "metadata": {}
  },
  {
   "cell_type": "code",
   "execution_count": 10,
   "source": [
    "dir_path = \"./results/multi/MNISTQ300\"\n",
    "file_blob = os.listdir(dir_path)\n",
    "main_key_str = \"mask_p\"\n",
    "minor_key_str = \"alpha\"\n",
    "# main_key_str = \"train_epoch\"\n",
    "results = PResult()\n",
    "for fn in file_blob:\n",
    "    # cfn = os.path.join(dir_path, fn)\n",
    "    # with open(cfn) as f:\n",
    "    #     f = f.read().split(\"\\n\")\n",
    "    # arg_dict, NM, FT, NM_std, FT_std, RM = parse_file(f)\n",
    "    try:\n",
    "        cfn = os.path.join(dir_path, fn)\n",
    "        with open(cfn) as f:\n",
    "            f = f.read().split(\"\\n\")\n",
    "        try:\n",
    "            arg_dict, NM, FT, NM_std, FT_std, RM = parse_file(f)\n",
    "        except:\n",
    "            print(fn)\n",
    "        results.add_result(arg_dict, NM, FT, NM_std, FT_std, RM, main_key_str, minor_key_str)\n",
    "    except:\n",
    "        print(fn)"
   ],
   "outputs": [
    {
     "output_type": "stream",
     "name": "stdout",
     "text": [
      "adv_train.o890937.4\n"
     ]
    }
   ],
   "metadata": {}
  },
  {
   "cell_type": "code",
   "execution_count": 11,
   "source": [
    "sb, hp = sort_keys(results.dict.keys())\n",
    "minor_key = 0\n",
    "for ii in range(len(sb)):\n",
    "    print(f\"{minor_key_str} = {sb[ii][0]}\")\n",
    "    for jj in range(len(sb[ii])):\n",
    "        key_item = (hp[ii][jj], sb[ii][jj])\n",
    "        i = results.dict[key_item]\n",
    "        NM = np.mean(i.NM_list)\n",
    "        FT = np.mean(i.FT_list)\n",
    "        NM_std = np.mean(i.NM_std_list)\n",
    "        FT_std = np.mean(i.FT_std_list)\n",
    "        RM = np.mean(i.RM_list)\n",
    "        gain= FT - NM\n",
    "        red = NM_std - FT_std\n",
    "        print(f\"{main_key_str} = {hp[ii][jj]:.0e}, ACC NM: {NM:.4f}, FT: {FT:.4f}, Gain: {gain:.4f},   STD NM: {NM_std:.4f}, FT: {FT_std:.4f}, Red: {red:.4f}\")\n",
    "        # print(RM)"
   ],
   "outputs": [
    {
     "output_type": "stream",
     "name": "stdout",
     "text": [
      "alpha = 6.0\n",
      "mask_p = 1e-02, ACC NM: 0.8831, FT: 0.8669, Gain: -0.0162,   STD NM: 0.0186, FT: 0.0156, Red: 0.0030\n"
     ]
    }
   ],
   "metadata": {}
  },
  {
   "cell_type": "code",
   "execution_count": null,
   "source": [],
   "outputs": [],
   "metadata": {}
  }
 ],
 "metadata": {
  "interpreter": {
   "hash": "30333f74cc2c8f5078f72764b31b09cbdb710851684501ae51bb2509b53bca7b"
  },
  "kernelspec": {
   "name": "python3",
   "display_name": "Python 3.8.8 64-bit"
  },
  "language_info": {
   "name": "python",
   "version": "3.8.8",
   "mimetype": "text/x-python",
   "codemirror_mode": {
    "name": "ipython",
    "version": 3
   },
   "pygments_lexer": "ipython3",
   "nbconvert_exporter": "python",
   "file_extension": ".py"
  },
  "orig_nbformat": 2
 },
 "nbformat": 4,
 "nbformat_minor": 2
}