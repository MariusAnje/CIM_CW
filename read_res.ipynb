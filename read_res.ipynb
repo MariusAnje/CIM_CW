{
 "cells": [
  {
   "cell_type": "code",
   "execution_count": 5,
   "metadata": {},
   "outputs": [],
   "source": [
    "import numpy as np\n",
    "import os"
   ]
  },
  {
   "cell_type": "code",
   "execution_count": 6,
   "metadata": {},
   "outputs": [],
   "source": [
    "def detect_namespace(namespace:str):\n",
    "    content = namespace[namespace.find(\"(\")+1:-1].split(\", \")\n",
    "    arg_dict = {}\n",
    "    for arg in content:\n",
    "        arg_type, arg_value = arg.split(\"=\")\n",
    "        arg_dict[arg_type] = arg_value\n",
    "    return arg_dict\n",
    "\n",
    "def get_acc(line:str, delimiter=\":\", precision=4):\n",
    "    index = line.find(delimiter) + len(delimiter)\n",
    "    acc = line[index:index + 3 + precision]\n",
    "    return float(acc)\n",
    "\n",
    "def parse_file(f):\n",
    "    for line in f:\n",
    "        if line.find(\"Namespace\") != -1:\n",
    "            arg_dict = detect_namespace(line)\n",
    "        if line.find(\"No mask noise average acc\") != -1:\n",
    "            NM = get_acc(line)\n",
    "        if line.find(\"Finetune noise average acc\") != -1:\n",
    "            FT = get_acc(line)\n",
    "    return arg_dict, NM, FT"
   ]
  },
  {
   "cell_type": "code",
   "execution_count": 7,
   "metadata": {},
   "outputs": [],
   "source": [
    "class PResultItem():\n",
    "    def __init__(self, main_key:float):\n",
    "        self.main_key = main_key\n",
    "        self.NM_list = []\n",
    "        self.FT_list = []\n",
    "    \n",
    "    def add_result(self, NM:float, FT:float):\n",
    "        assert len(self.NM_list) == len(self.FT_list)\n",
    "        self.NM_list.append(NM)\n",
    "        self.FT_list.append(FT)\n",
    "\n",
    "class PResult():\n",
    "    def __init__(self):\n",
    "        self.dict = {}\n",
    "    \n",
    "    def add_result(self, arg_dict:dict, NM:float, FT:float, main_key_str=\"mask_p\"):\n",
    "        # print(arg_dict)\n",
    "        main_key = float(arg_dict[main_key_str])\n",
    "        if not(main_key in self.dict.keys()):\n",
    "            self.dict[main_key] = PResultItem(main_key)\n",
    "        self.dict[main_key].add_result(NM, FT)"
   ]
  },
  {
   "cell_type": "code",
   "execution_count": 12,
   "metadata": {},
   "outputs": [],
   "source": [
    "dir_path = \"./results/sailCross\"\r\n",
    "file_blob = os.listdir(dir_path)\r\n",
    "main_key_str = \"mask_p\"\r\n",
    "# main_key_str = \"train_epoch\"\r\n",
    "results = PResult()\r\n",
    "for fn in file_blob:\r\n",
    "    cfn = os.path.join(dir_path, fn)\r\n",
    "    with open(cfn) as f:\r\n",
    "        f = f.read().split(\"\\n\")\r\n",
    "    try:\r\n",
    "        arg_dict, NM, FT = parse_file(f)\r\n",
    "    except:\r\n",
    "        print(fn)\r\n",
    "    results.add_result(arg_dict, NM, FT, main_key_str)"
   ]
  },
  {
   "cell_type": "code",
   "execution_count": 13,
   "metadata": {},
   "outputs": [
    {
     "name": "stdout",
     "output_type": "stream",
     "text": [
      "mask_p = 1.000000e-05, NM: 0.9031, FT: 0.9033, Gain: 0.0003\n",
      "mask_p = 5.000000e-05, NM: 0.9031, FT: 0.9031, Gain: 0.0000\n",
      "mask_p = 1.000000e-04, NM: 0.9031, FT: 0.9032, Gain: 0.0002\n",
      "mask_p = 5.000000e-04, NM: 0.9031, FT: 0.9033, Gain: 0.0002\n",
      "mask_p = 1.000000e-03, NM: 0.9031, FT: 0.9035, Gain: 0.0004\n",
      "mask_p = 5.000000e-03, NM: 0.9031, FT: 0.9047, Gain: 0.0017\n",
      "mask_p = 1.000000e-02, NM: 0.9031, FT: 0.9058, Gain: 0.0027\n"
     ]
    }
   ],
   "source": [
    "for j in np.sort(list(results.dict.keys())):\r\n",
    "    i = results.dict[j]\r\n",
    "    NM = np.mean(i.NM_list)\r\n",
    "    FT = np.mean(i.FT_list)\r\n",
    "    FTstd = np.std(i.FT_list)\r\n",
    "    gain= FT - NM\r\n",
    "    print(f\"{main_key_str} = {i.main_key:e}, NM: {NM:.4f}, FT: {FT:.4f}, Gain: {gain:.4f}\")"
   ]
  },
  {
   "cell_type": "code",
   "execution_count": 14,
   "metadata": {},
   "outputs": [
    {
     "name": "stdout",
     "output_type": "stream",
     "text": [
      "['saved_A_1622586201.1394565.pt', 'saved_A_1622588934.2849271.pt', 'saved_A_1622590543.5536091.pt', 'saved_A_1622590543.553758.pt', 'saved_A_1622590543.55377.pt', 'saved_A_1622590543.5538652.pt', 'saved_A_1622590546.2475152.pt', 'saved_A_1622590873.7518249.pt', 'saved_A_1622592009.025987.pt', 'saved_A_1622592814.259459.pt', 'saved_B_1622586201.1394565.pt', 'saved_B_1622588934.2849271.pt', 'saved_B_1622590543.5536091.pt', 'saved_B_1622590543.553758.pt', 'saved_B_1622590543.55377.pt', 'saved_B_1622590543.5538652.pt', 'saved_B_1622590546.2475152.pt', 'saved_B_1622590873.7518249.pt', 'saved_B_1622592009.025987.pt', 'saved_B_1622592814.259459.pt']\n"
     ]
    }
   ],
   "source": [
    "trace_head = \"./results/traces\"\n",
    "a = os.listdir(trace_head)\n",
    "print(a)"
   ]
  },
  {
   "cell_type": "code",
   "execution_count": 19,
   "metadata": {},
   "outputs": [],
   "source": [
    "import torch\n",
    "state_dict = torch.load(trace_head + \"/saved_A_1622586201.1394565.pt\", map_location=\"cpu\")"
   ]
  },
  {
   "cell_type": "code",
   "execution_count": 21,
   "metadata": {},
   "outputs": [
    {
     "data": {
      "text/plain": [
       "odict_keys(['fc1.weightS', 'fc1.op.weight', 'fc1.op.bias', 'fc2.weightS', 'fc2.op.weight', 'fc2.op.bias', 'fc3.weightS', 'fc3.op.weight', 'fc3.op.bias', 'fc4.weightS', 'fc4.op.weight', 'fc4.op.bias'])"
      ]
     },
     "execution_count": 21,
     "metadata": {},
     "output_type": "execute_result"
    }
   ],
   "source": [
    "state_dict.keys()"
   ]
  },
  {
   "cell_type": "code",
   "execution_count": 9,
   "metadata": {},
   "outputs": [
    {
     "data": {
      "text/plain": [
       "'0.000050'"
      ]
     },
     "execution_count": 9,
     "metadata": {},
     "output_type": "execute_result"
    }
   ],
   "source": [
    "f\"{5e-5:f}\""
   ]
  },
  {
   "cell_type": "code",
   "execution_count": null,
   "metadata": {},
   "outputs": [],
   "source": []
  }
 ],
 "metadata": {
  "interpreter": {
   "hash": "04f3ce0738d928d74413a2b10d0d4c487f39bbf2ffd0e3f43a6ab028b956cd75"
  },
  "kernelspec": {
   "display_name": "Python 3.7.4 64-bit ('base': conda)",
   "name": "python3"
  },
  "language_info": {
   "codemirror_mode": {
    "name": "ipython",
    "version": 3
   },
   "file_extension": ".py",
   "mimetype": "text/x-python",
   "name": "python",
   "nbconvert_exporter": "python",
   "pygments_lexer": "ipython3",
   "version": "3.7.4"
  },
  "orig_nbformat": 2
 },
 "nbformat": 4,
 "nbformat_minor": 2
}