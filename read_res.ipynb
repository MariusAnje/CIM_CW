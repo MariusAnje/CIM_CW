{
 "metadata": {
  "language_info": {
   "codemirror_mode": {
    "name": "ipython",
    "version": 3
   },
   "file_extension": ".py",
   "mimetype": "text/x-python",
   "name": "python",
   "nbconvert_exporter": "python",
   "pygments_lexer": "ipython3",
   "version": "3.6.8-final"
  },
  "orig_nbformat": 2,
  "kernelspec": {
   "name": "pythonjvsc74a57bd0f09c96bd4e15584f4d9e293bfe8df79352bc2ff8b62e2c337721549e56de9c71",
   "display_name": "Python 3.6.8 64-bit"
  }
 },
 "nbformat": 4,
 "nbformat_minor": 2,
 "cells": [
  {
   "cell_type": "code",
   "execution_count": 1,
   "metadata": {},
   "outputs": [],
   "source": [
    "import numpy as np\n",
    "import os"
   ]
  },
  {
   "cell_type": "code",
   "execution_count": 2,
   "metadata": {},
   "outputs": [],
   "source": [
    "def detect_namespace(namespace:str):\n",
    "    content = namespace[namespace.find(\"(\")+1:-1].split(\", \")\n",
    "    arg_dict = {}\n",
    "    for arg in content:\n",
    "        arg_type, arg_value = arg.split(\"=\")\n",
    "        arg_dict[arg_type] = arg_value\n",
    "    return arg_dict\n",
    "\n",
    "def get_acc(line:str, delimiter=\":\", precision=4):\n",
    "    index = line.find(delimiter) + len(delimiter)\n",
    "    acc = line[index:index + 3 + precision]\n",
    "    return float(acc)\n",
    "\n",
    "def parse_file(f):\n",
    "    for line in f:\n",
    "        if line.find(\"Namespace\") != -1:\n",
    "            arg_dict = detect_namespace(line)\n",
    "        if line.find(\"No mask noise average acc\") != -1:\n",
    "            NM = get_acc(line)\n",
    "        if line.find(\"Finetune noise average acc\") != -1:\n",
    "            FT = get_acc(line)\n",
    "    return arg_dict, NM, FT"
   ]
  },
  {
   "cell_type": "code",
   "execution_count": 3,
   "metadata": {},
   "outputs": [],
   "source": [
    "class PResultItem():\n",
    "    def __init__(self, main_key:float):\n",
    "        self.main_key = main_key\n",
    "        self.NM_list = []\n",
    "        self.FT_list = []\n",
    "    \n",
    "    def add_result(self, NM:float, FT:float):\n",
    "        assert len(self.NM_list) == len(self.FT_list)\n",
    "        self.NM_list.append(NM)\n",
    "        self.FT_list.append(FT)\n",
    "\n",
    "class PResult():\n",
    "    def __init__(self):\n",
    "        self.dict = {}\n",
    "    \n",
    "    def add_result(self, arg_dict:dict, NM:float, FT:float, main_key_str=\"mask_p\"):\n",
    "        # print(arg_dict)\n",
    "        main_key = float(arg_dict[main_key_str])\n",
    "        if not(main_key in self.dict.keys()):\n",
    "            self.dict[main_key] = PResultItem(main_key)\n",
    "        self.dict[main_key].add_result(NM, FT)"
   ]
  },
  {
   "cell_type": "code",
   "execution_count": 4,
   "metadata": {},
   "outputs": [],
   "source": [
    "dir_path = \"./results/pDiff\"\n",
    "file_blob = os.listdir(dir_path)\n",
    "main_key_str = \"mask_p\"\n",
    "# main_key_str = \"train_epoch\"\n",
    "results = PResult()\n",
    "for fn in file_blob:\n",
    "    cfn = os.path.join(dir_path, fn)\n",
    "    with open(cfn) as f:\n",
    "        f = f.read().split(\"\\n\")\n",
    "    arg_dict, NM, FT = parse_file(f)\n",
    "    results.add_result(arg_dict, NM, FT, main_key_str)"
   ]
  },
  {
   "cell_type": "code",
   "execution_count": 5,
   "metadata": {},
   "outputs": [
    {
     "output_type": "stream",
     "name": "stdout",
     "text": [
      "mask_p = 0.05, NM: 0.9331, FT: 0.9331, Gain: -0.0001\nmask_p = 0.10, NM: 0.8986, FT: 0.8988, Gain: 0.0002\nmask_p = 0.20, NM: 0.9140, FT: 0.9144, Gain: 0.0004\nmask_p = 0.30, NM: 0.9179, FT: 0.9180, Gain: 0.0001\nmask_p = 0.40, NM: 0.9117, FT: 0.9114, Gain: -0.0004\nmask_p = 0.50, NM: 0.9148, FT: 0.9148, Gain: -0.0000\n"
     ]
    }
   ],
   "source": [
    "for j in np.sort(list(results.dict.keys())):\n",
    "    i = results.dict[j]\n",
    "    NM = np.mean(i.NM_list)\n",
    "    FT = np.mean(i.FT_list)\n",
    "    gain= FT - NM\n",
    "    print(f\"{main_key_str} = {i.main_key:.2f}, NM: {NM:.4f}, FT: {FT:.4f}, Gain: {gain:.4f}\")"
   ]
  },
  {
   "cell_type": "code",
   "execution_count": 14,
   "metadata": {},
   "outputs": [
    {
     "output_type": "stream",
     "name": "stdout",
     "text": [
      "['saved_A_1622586201.1394565.pt', 'saved_A_1622588934.2849271.pt', 'saved_A_1622590543.5536091.pt', 'saved_A_1622590543.553758.pt', 'saved_A_1622590543.55377.pt', 'saved_A_1622590543.5538652.pt', 'saved_A_1622590546.2475152.pt', 'saved_A_1622590873.7518249.pt', 'saved_A_1622592009.025987.pt', 'saved_A_1622592814.259459.pt', 'saved_B_1622586201.1394565.pt', 'saved_B_1622588934.2849271.pt', 'saved_B_1622590543.5536091.pt', 'saved_B_1622590543.553758.pt', 'saved_B_1622590543.55377.pt', 'saved_B_1622590543.5538652.pt', 'saved_B_1622590546.2475152.pt', 'saved_B_1622590873.7518249.pt', 'saved_B_1622592009.025987.pt', 'saved_B_1622592814.259459.pt']\n"
     ]
    }
   ],
   "source": [
    "trace_head = \"./results/traces\"\n",
    "a = os.listdir(trace_head)\n",
    "print(a)"
   ]
  },
  {
   "cell_type": "code",
   "execution_count": 19,
   "metadata": {},
   "outputs": [],
   "source": [
    "import torch\n",
    "state_dict = torch.load(trace_head + \"/saved_A_1622586201.1394565.pt\", map_location=\"cpu\")"
   ]
  },
  {
   "cell_type": "code",
   "execution_count": 21,
   "metadata": {},
   "outputs": [
    {
     "output_type": "execute_result",
     "data": {
      "text/plain": [
       "odict_keys(['fc1.weightS', 'fc1.op.weight', 'fc1.op.bias', 'fc2.weightS', 'fc2.op.weight', 'fc2.op.bias', 'fc3.weightS', 'fc3.op.weight', 'fc3.op.bias', 'fc4.weightS', 'fc4.op.weight', 'fc4.op.bias'])"
      ]
     },
     "metadata": {},
     "execution_count": 21
    }
   ],
   "source": [
    "state_dict.keys()"
   ]
  },
  {
   "cell_type": "code",
   "execution_count": null,
   "metadata": {},
   "outputs": [],
   "source": []
  }
 ]
}