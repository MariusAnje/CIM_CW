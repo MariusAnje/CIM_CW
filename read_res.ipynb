{
 "cells": [
  {
   "cell_type": "code",
   "execution_count": 6,
   "source": [
    "import numpy as np\n",
    "import os"
   ],
   "outputs": [],
   "metadata": {}
  },
  {
   "cell_type": "code",
   "execution_count": 7,
   "source": [
    "def detect_namespace(namespace:str):\n",
    "    content = namespace[namespace.find(\"(\")+1:-1].split(\", \")\n",
    "    arg_dict = {}\n",
    "    for arg in content:\n",
    "        arg_type, arg_value = arg.split(\"=\")\n",
    "        arg_dict[arg_type] = arg_value\n",
    "    return arg_dict\n",
    "\n",
    "def get_acc(line:str, delimiter=\":\", precision=4):\n",
    "    index = line.find(delimiter) + len(delimiter)\n",
    "    acc = line[index:index + 3 + precision]\n",
    "    return float(acc)\n",
    "\n",
    "def parse_file(f):\n",
    "    for line in f:\n",
    "        if line.find(\"Namespace\") != -1:\n",
    "            arg_dict = detect_namespace(line)\n",
    "        if line.find(\"No mask noise average acc\") != -1:\n",
    "            NM = get_acc(line)\n",
    "        if line.find(\"Finetune noise average acc\") != -1:\n",
    "            FT = get_acc(line)\n",
    "    return arg_dict, NM, FT"
   ],
   "outputs": [],
   "metadata": {}
  },
  {
   "cell_type": "code",
   "execution_count": 8,
   "source": [
    "class PResultItem():\n",
    "    def __init__(self, main_key:float):\n",
    "        self.main_key = main_key\n",
    "        self.NM_list = []\n",
    "        self.FT_list = []\n",
    "    \n",
    "    def add_result(self, NM:float, FT:float):\n",
    "        assert len(self.NM_list) == len(self.FT_list)\n",
    "        self.NM_list.append(NM)\n",
    "        self.FT_list.append(FT)\n",
    "\n",
    "class PResult():\n",
    "    def __init__(self):\n",
    "        self.dict = {}\n",
    "    \n",
    "    def add_result(self, arg_dict:dict, NM:float, FT:float, main_key_str=\"mask_p\"):\n",
    "        # print(arg_dict)\n",
    "        main_key = float(arg_dict[main_key_str])\n",
    "        if not(main_key in self.dict.keys()):\n",
    "            self.dict[main_key] = PResultItem(main_key)\n",
    "        self.dict[main_key].add_result(NM, FT)"
   ],
   "outputs": [],
   "metadata": {}
  },
  {
   "cell_type": "code",
   "execution_count": 10,
   "source": [
    "dir_path = \"./results/cifar/r_salient_6\"\n",
    "file_blob = os.listdir(dir_path)\n",
    "main_key_str = \"mask_p\"\n",
    "# main_key_str = \"train_epoch\"\n",
    "results = PResult()\n",
    "for fn in file_blob:\n",
    "    cfn = os.path.join(dir_path, fn)\n",
    "    with open(cfn) as f:\n",
    "        f = f.read().split(\"\\n\")\n",
    "    try:\n",
    "        arg_dict, NM, FT = parse_file(f)\n",
    "    except:\n",
    "        print(fn)\n",
    "    results.add_result(arg_dict, NM, FT, main_key_str)"
   ],
   "outputs": [
    {
     "output_type": "stream",
     "name": "stdout",
     "text": [
      "adv_train.o657095.5\n"
     ]
    }
   ],
   "metadata": {}
  },
  {
   "cell_type": "code",
   "execution_count": 11,
   "source": [
    "for j in np.sort(list(results.dict.keys())):\n",
    "    i = results.dict[j]\n",
    "    NM = np.mean(i.NM_list)\n",
    "    FT = np.mean(i.FT_list)\n",
    "    FTstd = np.std(i.FT_list)\n",
    "    gain= FT - NM\n",
    "    print(f\"{main_key_str} = {i.main_key:e}, NM: {NM:.4f}, FT: {FT:.4f}, Gain: {gain:.4f}\")"
   ],
   "outputs": [
    {
     "output_type": "stream",
     "name": "stdout",
     "text": [
      "mask_p = 1.000000e-05, NM: 0.8096, FT: 0.8110, Gain: 0.0014\n",
      "mask_p = 1.000000e-04, NM: 0.8099, FT: 0.8127, Gain: 0.0028\n",
      "mask_p = 1.000000e-03, NM: 0.8099, FT: 0.8159, Gain: 0.0060\n",
      "mask_p = 1.000000e-02, NM: 0.8096, FT: 0.8153, Gain: 0.0057\n",
      "mask_p = 1.000000e-01, NM: 0.8096, FT: 0.7322, Gain: -0.0774\n"
     ]
    }
   ],
   "metadata": {}
  }
 ],
 "metadata": {
  "interpreter": {
   "hash": "30333f74cc2c8f5078f72764b31b09cbdb710851684501ae51bb2509b53bca7b"
  },
  "kernelspec": {
   "name": "python3",
   "display_name": "Python 3.8.8 64-bit ('base': conda)"
  },
  "language_info": {
   "name": "python",
   "version": "3.8.8",
   "mimetype": "text/x-python",
   "codemirror_mode": {
    "name": "ipython",
    "version": 3
   },
   "pygments_lexer": "ipython3",
   "nbconvert_exporter": "python",
   "file_extension": ".py"
  },
  "orig_nbformat": 2
 },
 "nbformat": 4,
 "nbformat_minor": 2
}